{
 "cells": [
  {
   "cell_type": "markdown",
   "id": "8ec2ffea",
   "metadata": {},
   "source": [
    "## Домашняя работа по теме \"Классификация. Логистическая регрессия\""
   ]
  },
  {
   "cell_type": "markdown",
   "id": "0ab1ae4c",
   "metadata": {},
   "source": [
    "1. *Измените функцию calc_logloss так, чтобы нули по возможности не попадали в np.log."
   ]
  },
  {
   "cell_type": "code",
   "execution_count": 1,
   "id": "fbae6c6e",
   "metadata": {},
   "outputs": [],
   "source": [
    "import numpy as np"
   ]
  },
  {
   "cell_type": "code",
   "execution_count": 2,
   "id": "c1f1b7e8",
   "metadata": {},
   "outputs": [],
   "source": [
    "def calc_logloss(y, y_pred):\n",
    "    err = - np.mean(y * np.log(y_pred) + (1.0 - y) * np.log(1.0 - y_pred))\n",
    "    return err"
   ]
  },
  {
   "cell_type": "code",
   "execution_count": 3,
   "id": "156043dc",
   "metadata": {},
   "outputs": [
    {
     "name": "stderr",
     "output_type": "stream",
     "text": [
      "<ipython-input-2-7d5907c1794a>:2: RuntimeWarning: divide by zero encountered in log\n",
      "  err = - np.mean(y * np.log(y_pred) + (1.0 - y) * np.log(1.0 - y_pred))\n"
     ]
    },
    {
     "data": {
      "text/plain": [
       "inf"
      ]
     },
     "execution_count": 3,
     "metadata": {},
     "output_type": "execute_result"
    }
   ],
   "source": [
    "# Пример применения\n",
    "y1 = np.array([1, 0])\n",
    "y_pred1 = np.array([0, 0.1])\n",
    "calc_logloss(y1, y_pred1)"
   ]
  },
  {
   "cell_type": "code",
   "execution_count": 4,
   "id": "b76284ff",
   "metadata": {},
   "outputs": [],
   "source": [
    "def calc_logloss(y, y_pred):\n",
    "    y_pred = np.where(y_pred == 1, 0.99, y_pred)\n",
    "    y_pred = np.where(y_pred == 0, 0.01, y_pred)\n",
    "    err = - np.mean(y * np.log(y_pred) + (1.0 - y) * np.log(1.0 - y_pred))\n",
    "    return err"
   ]
  },
  {
   "cell_type": "code",
   "execution_count": 5,
   "id": "9f12962b",
   "metadata": {},
   "outputs": [],
   "source": [
    "a = np.array([0,1,0.3, 4, 2])"
   ]
  },
  {
   "cell_type": "code",
   "execution_count": 6,
   "id": "bd3f4466",
   "metadata": {},
   "outputs": [
    {
     "data": {
      "text/plain": [
       "2.3552653508229584"
      ]
     },
     "execution_count": 6,
     "metadata": {},
     "output_type": "execute_result"
    }
   ],
   "source": [
    "# Пример применения\n",
    "y1 = np.array([1, 0])\n",
    "y_pred1 = np.array([0, 0.1])\n",
    "calc_logloss(y1, y_pred1)"
   ]
  },
  {
   "cell_type": "markdown",
   "id": "0faf97b3",
   "metadata": {},
   "source": [
    "2. Подберите аргументы функции eval_model для логистической регрессии таким образом, чтобы log loss был минимальным.\n"
   ]
  },
  {
   "cell_type": "code",
   "execution_count": 7,
   "id": "cca83ee0",
   "metadata": {},
   "outputs": [],
   "source": [
    "X = np.array([ [   1,    1,  500,    1],\n",
    "               [   1,    1,  700,    1],\n",
    "               [   1,    2,  750,    2],\n",
    "               [   1,    5,  600,    1],\n",
    "               [   1,    3, 1450,    2],\n",
    "               [   1,    0,  800,    1],\n",
    "               [   1,    5, 1500,    3],\n",
    "               [   1,   10, 2000,    3],\n",
    "               [   1,    1,  450,    1],\n",
    "               [   1,    2, 1000,    2]], dtype=np.float64)\n",
    "\n",
    "y = np.array([0, 0, 1, 0, 1, 0, 1, 0, 1, 1], dtype=np.float64)"
   ]
  },
  {
   "cell_type": "code",
   "execution_count": 8,
   "id": "51de666f",
   "metadata": {},
   "outputs": [],
   "source": [
    "def standard_scale(x):\n",
    "    res = (x - x.mean()) / x.std()\n",
    "    return res"
   ]
  },
  {
   "cell_type": "code",
   "execution_count": 9,
   "id": "0f1c3f7c",
   "metadata": {},
   "outputs": [],
   "source": [
    "X_st = X.copy()\n",
    "X_st[:, 2] = standard_scale(X[:, 2])"
   ]
  },
  {
   "cell_type": "code",
   "execution_count": 10,
   "id": "058052be",
   "metadata": {},
   "outputs": [],
   "source": [
    "def sigmoid(z):\n",
    "    res = 1 / (1 + np.exp(-z))\n",
    "    return res"
   ]
  },
  {
   "cell_type": "code",
   "execution_count": 11,
   "id": "ac08ba25",
   "metadata": {},
   "outputs": [],
   "source": [
    "def eval_model(X, y, iterations, eta=1e-4):\n",
    "    np.random.seed(42)\n",
    "    W = np.random.randn(X.shape[1])\n",
    "    n = X.shape[0]\n",
    "    \n",
    "    for i in range(iterations):\n",
    "        z = np.dot(X, W)\n",
    "        y_pred = sigmoid(z)\n",
    "        err = calc_logloss(y, y_pred)\n",
    "        \n",
    "        dQ = 1/n * X.T @ (y_pred - y)\n",
    "        W -= eta * dQ\n",
    "        if i % (iterations / 10) == 0:\n",
    "            print(i, W, err)\n",
    "    return W"
   ]
  },
  {
   "cell_type": "code",
   "execution_count": 12,
   "id": "4661e134",
   "metadata": {},
   "outputs": [
    {
     "name": "stdout",
     "output_type": "stream",
     "text": [
      "0 [ 0.49292028 -0.15277306  0.64741473  1.51736839] 1.1785958344356262\n",
      "10000 [-2.51859539 -0.94526548  0.40020792  3.13260413] 0.37535104091786076\n",
      "20000 [-4.27636089 -0.98163197 -0.27404823  4.26190358] 0.3266452802377501\n",
      "30000 [-5.56029067 -1.03174275 -0.73817187  5.15128174] 0.29992941321768546\n",
      "40000 [-6.58505076 -1.08569439 -1.09081936  5.8979985 ] 0.2825314011378889\n",
      "50000 [-7.45452707 -1.13932291 -1.38011056  6.55229421] 0.2698053402717111\n",
      "60000 [-8.22283088 -1.19149845 -1.62966903  7.1429085 ] 0.25975500932094964\n",
      "70000 [-8.9205223  -1.24198713 -1.85228427  7.68713321] 0.2513995524042584\n",
      "80000 [-9.5660847  -1.29082061 -2.05546494  8.19590938] 0.24420400238940002\n",
      "90000 [-10.17134369  -1.33810265  -2.24391155   8.67648179] 0.23785183971079435\n"
     ]
    }
   ],
   "source": [
    "W = eval_model(X_st, y, iterations=100000, eta=1e-2)"
   ]
  },
  {
   "cell_type": "markdown",
   "id": "972531df",
   "metadata": {},
   "source": [
    "Минимизировать ошибку получилось с помощью увеличения числа итераций до 100 000 и увеличения скорости обучения до 0.01"
   ]
  },
  {
   "cell_type": "markdown",
   "id": "cea666a8",
   "metadata": {},
   "source": [
    "3. Создайте функцию calc_pred_proba, возвращающую предсказанную вероятность класса 1 (на вход подаются W, который уже посчитан функцией eval_model и X, на выходе - массив y_pred_proba)."
   ]
  },
  {
   "cell_type": "code",
   "execution_count": 13,
   "id": "f9d5360e",
   "metadata": {},
   "outputs": [],
   "source": [
    "def calc_pred_proba(W, X):\n",
    "    m = X.shape[0]\n",
    "    y_pred_proba = np.zeros(m)\n",
    "    A = np.squeeze(sigmoid(np.dot(X, W)))\n",
    "    for i in range(A.shape[0]):\n",
    "        y_pred_proba[i] = A[i]\n",
    "    return y_pred_proba"
   ]
  },
  {
   "cell_type": "code",
   "execution_count": 14,
   "id": "74232750",
   "metadata": {},
   "outputs": [
    {
     "name": "stdout",
     "output_type": "stream",
     "text": [
      "Предсказанные вероятности: [0.34909577 0.16500392 0.99720963 0.00128205 0.73111739 0.3237184\n",
      " 0.99918914 0.09118778 0.40771831 0.99034651]\n"
     ]
    }
   ],
   "source": [
    "print(f'Предсказанные вероятности: {calc_pred_proba(W, X_st)}')"
   ]
  },
  {
   "cell_type": "markdown",
   "id": "f1fb5fb0",
   "metadata": {},
   "source": [
    "4. Создайте функцию calc_pred, возвращающую предсказанный класс (на вход подаются W, который уже посчитан функцией eval_model и X, на выходе - массив y_pred)."
   ]
  },
  {
   "cell_type": "code",
   "execution_count": 15,
   "id": "97d715d6",
   "metadata": {},
   "outputs": [],
   "source": [
    "def calc_pred(W, X):\n",
    "    m = X.shape[0]\n",
    "    y_pred_proba = np.zeros(m)\n",
    "    A = np.squeeze(sigmoid(np.dot(X, W)))\n",
    "    for i in range(A.shape[0]):\n",
    "        if (A[i] > 0.5):\n",
    "            y_pred_proba[i] = 1\n",
    "        else:\n",
    "            y_pred_proba[i] = 0\n",
    "    return y_pred_proba"
   ]
  },
  {
   "cell_type": "code",
   "execution_count": 16,
   "id": "e1ca1555",
   "metadata": {},
   "outputs": [
    {
     "name": "stdout",
     "output_type": "stream",
     "text": [
      "Предсказанные значения [0. 0. 1. 0. 1. 0. 1. 0. 0. 1.]\n",
      "Истинные значения [0. 0. 1. 0. 1. 0. 1. 0. 1. 1.]\n"
     ]
    }
   ],
   "source": [
    "y_pred = calc_pred(W, X_st)\n",
    "print(f'Предсказанные значения {y_pred}')\n",
    "print(f'Истинные значения {y}')"
   ]
  },
  {
   "cell_type": "markdown",
   "id": "f669205d",
   "metadata": {},
   "source": [
    "5. *Реализуйте функции для подсчета Accuracy, матрицы ошибок, точности и полноты, а также F1 score."
   ]
  },
  {
   "cell_type": "code",
   "execution_count": 17,
   "id": "2d2c05ea",
   "metadata": {},
   "outputs": [
    {
     "name": "stdout",
     "output_type": "stream",
     "text": [
      "Доля правильных ответов: 0.9\n"
     ]
    }
   ],
   "source": [
    "def accuracy(y, y_pred):\n",
    "    return np.sum(y == y_pred)/len(y)\n",
    "\n",
    "print(f'Доля правильных ответов: {accuracy(y, y_pred)}')"
   ]
  },
  {
   "cell_type": "code",
   "execution_count": 18,
   "id": "7c8e6937",
   "metadata": {},
   "outputs": [],
   "source": [
    "import pandas as pd\n",
    "\n",
    "def matrix(y, y_pred):\n",
    "    TP = 0\n",
    "    FP = 0\n",
    "    TN = 0\n",
    "    FN = 0\n",
    "    for i in range(y.shape[0]):\n",
    "        if y[i] == y_pred[i] and y[i] == 1:\n",
    "            TP += 1\n",
    "        if y[i] == y_pred[i] and y[i] == 0:\n",
    "            TN += 1\n",
    "        if not y[i] == y_pred[i]:\n",
    "            if y[i] == 1:\n",
    "                FN += 1\n",
    "        if not y[i] == y_pred[i]:\n",
    "            if y[i] == 0:\n",
    "                FP += 1\n",
    "    \n",
    "    df = pd.DataFrame(np.array([[f'TP: {TP}', f'FP: {FP}'], [f'FN: {FN}', f'TN: {TN}']]),\n",
    "                   columns=['+1', '-1'])\n",
    "    \n",
    "    precision = TP/(TP+FP)\n",
    "    recall = TP/(TP+FN)\n",
    "    f_score = (2*precision*recall)/(precision+recall)\n",
    "    \n",
    "    print(f' Матрица ошибок:\\n {df}\\n***')\n",
    "    print(f'Точность: {precision}\\n***')\n",
    "    print(f'Полнота: {recall}\\n***')\n",
    "    print(f'Гармоническое среднее: {f_score}')\n"
   ]
  },
  {
   "cell_type": "code",
   "execution_count": 19,
   "id": "15a2352b",
   "metadata": {},
   "outputs": [
    {
     "name": "stdout",
     "output_type": "stream",
     "text": [
      " Матрица ошибок:\n",
      "       +1     -1\n",
      "0  TP: 4  FP: 0\n",
      "1  FN: 1  TN: 5\n",
      "***\n",
      "Точность: 1.0\n",
      "***\n",
      "Полнота: 0.8\n",
      "***\n",
      "Гармоническое среднее: 0.888888888888889\n"
     ]
    }
   ],
   "source": [
    "matrix(y, y_pred)"
   ]
  }
 ],
 "metadata": {
  "kernelspec": {
   "display_name": "Python 3",
   "language": "python",
   "name": "python3"
  },
  "language_info": {
   "codemirror_mode": {
    "name": "ipython",
    "version": 3
   },
   "file_extension": ".py",
   "mimetype": "text/x-python",
   "name": "python",
   "nbconvert_exporter": "python",
   "pygments_lexer": "ipython3",
   "version": "3.8.8"
  }
 },
 "nbformat": 4,
 "nbformat_minor": 5
}
